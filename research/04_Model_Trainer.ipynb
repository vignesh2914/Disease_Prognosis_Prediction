{
 "cells": [
  {
   "cell_type": "code",
   "execution_count": 23,
   "metadata": {},
   "outputs": [],
   "source": [
    "import os\n",
    "import pandas as pd\n"
   ]
  },
  {
   "cell_type": "code",
   "execution_count": 24,
   "metadata": {},
   "outputs": [],
   "source": [
    "import os\n",
    "os.chdir('c:\\\\Users\\\\Vigneswaran\\\\OneDrive - Datanetiix Solutions Inc\\\\Desktop\\\\Diesease_Prognosis')\n"
   ]
  },
  {
   "cell_type": "code",
   "execution_count": 25,
   "metadata": {},
   "outputs": [],
   "source": [
    "import sys\n",
    "import os\n",
    "sys.path.append(os.path.join(os.getcwd(), 'src'))\n"
   ]
  },
  {
   "cell_type": "code",
   "execution_count": 26,
   "metadata": {},
   "outputs": [],
   "source": [
    "from dataclasses import dataclass\n",
    "from pathlib import Path\n",
    "\n",
    "@dataclass(frozen=True)\n",
    "class ModelTrainerConfig:\n",
    "    root_dir: Path\n",
    "    train_data_path: Path\n",
    "    test_data_path: Path\n",
    "    model_name: str\n",
    "    n_estimators: int\n",
    "    min_samples_split: int\n",
    "    min_samples_leaf: int\n",
    "    random_state: int\n",
    "    target_column: str\n",
    "    n_components: float  # PCA components as a percentage of variance to retain\n"
   ]
  },
  {
   "cell_type": "code",
   "execution_count": 27,
   "metadata": {},
   "outputs": [],
   "source": [
    "from diseaseprognosis.constants import *\n",
    "from diseaseprognosis.utils.common import read_yaml, create_directories"
   ]
  },
  {
   "cell_type": "code",
   "execution_count": 28,
   "metadata": {},
   "outputs": [],
   "source": [
    "class ConfigurationManager:\n",
    "    def __init__(\n",
    "        self,\n",
    "        config_filepath = CONFIG_FILE_PATH,\n",
    "        params_filepath = PARAMS_FILE_PATH,\n",
    "        schema_filepath = SCHEMA_FILE_PATH):\n",
    "\n",
    "        self.config = read_yaml(config_filepath)\n",
    "        self.params = read_yaml(params_filepath)\n",
    "        self.schema = read_yaml(schema_filepath)\n",
    "\n",
    "        create_directories([self.config.artifacts_root])\n",
    "\n",
    "\n",
    "    def get_model_trainer_config(self) -> ModelTrainerConfig:\n",
    "        config = self.config.model_trainer\n",
    "        params = self.params.RandomForest\n",
    "        params_pca = self.params.PCA\n",
    "        schema =  self.schema.TARGET_COLUMN\n",
    "\n",
    "        create_directories([config.root_dir])\n",
    "\n",
    "        model_trainer_config = ModelTrainerConfig(\n",
    "            root_dir=config.root_dir,\n",
    "            train_data_path = config.train_data_path,\n",
    "            test_data_path = config.test_data_path,\n",
    "            model_name = config.model_name,\n",
    "            n_estimators = params.n_estimators,\n",
    "            min_samples_split = params.min_samples_split,\n",
    "            random_state = params.random_state,\n",
    "            min_samples_leaf = params.min_samples_leaf,\n",
    "            target_column = schema.name,\n",
    "            n_components=params_pca.n_components  # PCA parameters\n",
    "\n",
    "        )\n",
    "\n",
    "        return model_trainer_config\n"
   ]
  },
  {
   "cell_type": "code",
   "execution_count": 29,
   "metadata": {},
   "outputs": [],
   "source": [
    "import pandas as pd\n",
    "import os\n",
    "from diseaseprognosis import logger\n",
    "from sklearn.ensemble import RandomForestClassifier\n",
    "import joblib"
   ]
  },
  {
   "cell_type": "code",
   "execution_count": null,
   "metadata": {},
   "outputs": [],
   "source": [
    "from sklearn.ensemble import RandomForestClassifier\n",
    "from sklearn.decomposition import PCA\n",
    "import joblib\n",
    "import os\n",
    "\n",
    "class ModelTrainer:\n",
    "    def __init__(self, config: ModelTrainerConfig):\n",
    "        self.config = config\n",
    "        \n",
    "        # Initialize PCA with the number of components from the config\n",
    "        self.pca = PCA(n_components=self.config.n_components, random_state=self.config.random_state)\n",
    "\n",
    "        # Initialize Random Forest model with parameters from the config\n",
    "        self.model = RandomForestClassifier(\n",
    "            n_estimators=self.config.n_estimators,\n",
    "            min_samples_split=self.config.min_samples_split,\n",
    "            random_state=self.config.random_state\n",
    "        )\n",
    "\n",
    "    def train(self):\n",
    "        # Load training and testing data\n",
    "        train_data = pd.read_csv(self.config.train_data_path)\n",
    "        test_data = pd.read_csv(self.config.test_data_path)\n",
    "\n",
    "        # Split into features and target\n",
    "        train_x = train_data.drop([self.config.target_column], axis=1)\n",
    "        test_x = test_data.drop([self.config.target_column], axis=1)\n",
    "        train_y = train_data[self.config.target_column]\n",
    "        test_y = test_data[self.config.target_column]\n",
    "\n",
    "        # Apply PCA to reduce dimensions\n",
    "        train_x = self.pca.fit_transform(train_x)\n",
    "        test_x = self.pca.transform(test_x)\n",
    "\n",
    "\n",
    "        # Train the Random Forest model\n",
    "        self.model.fit(train_x, train_y)\n",
    "\n",
    "        # Save the trained Random Forest model to a separate file\n",
    "        rf_model_path = os.path.join(self.config.root_dir, f\"{self.config.model_name}_rf\")\n",
    "        joblib.dump(self.model, rf_model_path)\n",
    "        print(f\"Random Forest model saved at {rf_model_path}\")\n",
    "\n",
    "        # Save the PCA components to a separate file\n",
    "        pca_model_path = os.path.join(self.config.root_dir, f\"{self.config.model_name}_pca\")\n",
    "        joblib.dump(self.pca, pca_model_path)\n",
    "        print(f\"PCA components saved at {pca_model_path}\")\n",
    "\n",
    "\n",
    "\n",
    "        return rf_model_path, pca_model_path\n"
   ]
  },
  {
   "cell_type": "code",
   "execution_count": null,
   "metadata": {},
   "outputs": [
    {
     "name": "stdout",
     "output_type": "stream",
     "text": [
      "[2024-12-04 11:15:31,866: INFO: common: yaml file: config\\config.yaml loaded successfully]\n",
      "[2024-12-04 11:15:31,870: INFO: common: yaml file: params.yaml loaded successfully]\n",
      "[2024-12-04 11:15:31,886: INFO: common: yaml file: schema.yaml loaded successfully]\n",
      "[2024-12-04 11:15:31,889: INFO: common: created directory at: artifacts]\n",
      "[2024-12-04 11:15:31,892: INFO: common: created directory at: artifacts/model_trainer]\n",
      "Model saved at artifacts/model_trainer\\model.joblib\n"
     ]
    }
   ],
   "source": [
    "try:\n",
    "    config = ConfigurationManager()\n",
    "    model_trainer_config = config.get_model_trainer_config()\n",
    "    model_trainer = ModelTrainer(config=model_trainer_config)\n",
    "    rf_model_path, pca_model_path = model_trainer.train()\n",
    "except Exception as e:\n",
    "    raise e\n"
   ]
  },
  {
   "cell_type": "code",
   "execution_count": null,
   "metadata": {},
   "outputs": [],
   "source": []
  }
 ],
 "metadata": {
  "kernelspec": {
   "display_name": "venv",
   "language": "python",
   "name": "python3"
  },
  "language_info": {
   "codemirror_mode": {
    "name": "ipython",
    "version": 3
   },
   "file_extension": ".py",
   "mimetype": "text/x-python",
   "name": "python",
   "nbconvert_exporter": "python",
   "pygments_lexer": "ipython3",
   "version": "3.9.20"
  }
 },
 "nbformat": 4,
 "nbformat_minor": 2
}
