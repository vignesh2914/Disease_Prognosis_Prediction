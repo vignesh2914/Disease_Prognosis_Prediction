{
 "cells": [
  {
   "cell_type": "code",
   "execution_count": 14,
   "metadata": {},
   "outputs": [],
   "source": [
    "import os\n",
    "import pandas as pd\n"
   ]
  },
  {
   "cell_type": "code",
   "execution_count": 15,
   "metadata": {},
   "outputs": [],
   "source": [
    "import os\n",
    "os.chdir('c:\\\\Users\\\\Vigneswaran\\\\OneDrive - Datanetiix Solutions Inc\\\\Desktop\\\\Diesease_Prognosis')\n"
   ]
  },
  {
   "cell_type": "code",
   "execution_count": 16,
   "metadata": {},
   "outputs": [],
   "source": [
    "import sys\n",
    "import os\n",
    "sys.path.append(os.path.join(os.getcwd(), 'src'))\n"
   ]
  },
  {
   "cell_type": "code",
   "execution_count": 17,
   "metadata": {},
   "outputs": [],
   "source": [
    "from dataclasses import dataclass\n",
    "from pathlib import Path\n",
    "\n",
    "@dataclass(frozen=True)\n",
    "class ModelTrainerConfig:\n",
    "    root_dir: Path\n",
    "    train_data_path: Path\n",
    "    test_data_path: Path\n",
    "    model_name: str\n",
    "    n_estimators: int\n",
    "    min_samples_split: int\n",
    "    min_samples_leaf: int\n",
    "    random_state: int\n",
    "    target_column: str\n",
    "    n_components: float  # PCA components as a percentage of variance to retain\n"
   ]
  },
  {
   "cell_type": "code",
   "execution_count": 18,
   "metadata": {},
   "outputs": [],
   "source": [
    "from diseaseprognosis.constants import *\n",
    "from diseaseprognosis.utils.common import read_yaml, create_directories"
   ]
  },
  {
   "cell_type": "code",
   "execution_count": 19,
   "metadata": {},
   "outputs": [],
   "source": [
    "class ConfigurationManager:\n",
    "    def __init__(\n",
    "        self,\n",
    "        config_filepath = CONFIG_FILE_PATH,\n",
    "        params_filepath = PARAMS_FILE_PATH,\n",
    "        schema_filepath = SCHEMA_FILE_PATH):\n",
    "\n",
    "        self.config = read_yaml(config_filepath)\n",
    "        self.params = read_yaml(params_filepath)\n",
    "        self.schema = read_yaml(schema_filepath)\n",
    "\n",
    "        create_directories([self.config.artifacts_root])\n",
    "\n",
    "\n",
    "    def get_model_trainer_config(self) -> ModelTrainerConfig:\n",
    "        config = self.config.model_trainer\n",
    "        params = self.params.RandomForest\n",
    "        params_pca = self.params.PCA\n",
    "        schema =  self.schema.TARGET_COLUMN\n",
    "\n",
    "        create_directories([config.root_dir])\n",
    "\n",
    "        model_trainer_config = ModelTrainerConfig(\n",
    "            root_dir=config.root_dir,\n",
    "            train_data_path = config.train_data_path,\n",
    "            test_data_path = config.test_data_path,\n",
    "            model_name = config.model_name,\n",
    "            n_estimators = params.n_estimators,\n",
    "            min_samples_split = params.min_samples_split,\n",
    "            random_state = params.random_state,\n",
    "            min_samples_leaf = params.min_samples_leaf,\n",
    "            target_column = schema.name,\n",
    "            n_components=params_pca.n_components  # PCA parameters\n",
    "\n",
    "        )\n",
    "\n",
    "        return model_trainer_config\n"
   ]
  },
  {
   "cell_type": "code",
   "execution_count": 20,
   "metadata": {},
   "outputs": [],
   "source": [
    "import pandas as pd\n",
    "import os\n",
    "from diseaseprognosis import logger\n",
    "from sklearn.ensemble import RandomForestClassifier\n",
    "import joblib"
   ]
  },
  {
   "cell_type": "code",
   "execution_count": 21,
   "metadata": {},
   "outputs": [],
   "source": [
    "from sklearn.ensemble import RandomForestClassifier\n",
    "from sklearn.decomposition import PCA\n",
    "import joblib\n",
    "import os\n",
    "\n",
    "class ModelTrainer:\n",
    "    def __init__(self, config: ModelTrainerConfig):\n",
    "        self.config = config\n",
    "        \n",
    "        # Initialize PCA with the number of components from the config\n",
    "        self.pca = PCA(n_components=self.config.n_components, random_state=self.config.random_state)\n",
    "\n",
    "        # Initialize Random Forest model with parameters from the config\n",
    "        self.model = RandomForestClassifier(\n",
    "            n_estimators=self.config.n_estimators,\n",
    "            min_samples_split=self.config.min_samples_split,\n",
    "            random_state=self.config.random_state\n",
    "        )\n",
    "\n",
    "    def train(self):\n",
    "        # Load training and testing data\n",
    "        train_data = pd.read_csv(self.config.train_data_path)\n",
    "        test_data = pd.read_csv(self.config.test_data_path)\n",
    "\n",
    "        # Split into features and target\n",
    "        train_x = train_data.drop([self.config.target_column], axis=1)\n",
    "        test_x = test_data.drop([self.config.target_column], axis=1)\n",
    "        train_y = train_data[self.config.target_column]\n",
    "        test_y = test_data[self.config.target_column]\n",
    "\n",
    "        # Apply PCA to reduce dimensions\n",
    "        train_x = self.pca.fit_transform(train_x)\n",
    "        test_x = self.pca.transform(test_x)\n",
    "\n",
    "\n",
    "        # Train the Random Forest model\n",
    "        self.model.fit(train_x, train_y)\n",
    "\n",
    "        # Save the trained model to a file\n",
    "        model_path = os.path.join(self.config.root_dir, self.config.model_name)\n",
    "        joblib.dump({'model': self.model, 'pca': self.pca}, model_path)\n",
    "        print(f\"Model saved at {model_path}\")\n",
    "\n",
    "        return model_path\n"
   ]
  },
  {
   "cell_type": "code",
   "execution_count": null,
   "metadata": {},
   "outputs": [
    {
     "name": "stdout",
     "output_type": "stream",
     "text": [
      "[2024-12-04 11:09:32,184: INFO: common: yaml file: config\\config.yaml loaded successfully]\n",
      "[2024-12-04 11:09:32,194: INFO: common: yaml file: params.yaml loaded successfully]\n",
      "[2024-12-04 11:09:32,217: INFO: common: yaml file: schema.yaml loaded successfully]\n",
      "[2024-12-04 11:09:32,220: INFO: common: created directory at: artifacts]\n",
      "[2024-12-04 11:09:32,224: INFO: common: created directory at: artifacts/model_trainer]\n"
     ]
    },
    {
     "ename": "AttributeError",
     "evalue": "'ModelTrainer' object has no attribute 'n_components'",
     "output_type": "error",
     "traceback": [
      "\u001b[1;31m---------------------------------------------------------------------------\u001b[0m",
      "\u001b[1;31mAttributeError\u001b[0m                            Traceback (most recent call last)",
      "Cell \u001b[1;32mIn[22], line 11\u001b[0m\n\u001b[0;32m      9\u001b[0m     model_trainer_config\u001b[38;5;241m.\u001b[39mtrain()\n\u001b[0;32m     10\u001b[0m \u001b[38;5;28;01mexcept\u001b[39;00m \u001b[38;5;167;01mException\u001b[39;00m \u001b[38;5;28;01mas\u001b[39;00m e:\n\u001b[1;32m---> 11\u001b[0m     \u001b[38;5;28;01mraise\u001b[39;00m e\n",
      "Cell \u001b[1;32mIn[22], line 7\u001b[0m\n\u001b[0;32m      4\u001b[0m model_trainer_config \u001b[38;5;241m=\u001b[39m ModelTrainer(config\u001b[38;5;241m=\u001b[39mmodel_trainer_config)\n\u001b[0;32m      6\u001b[0m \u001b[38;5;66;03m# Train the model with PCA\u001b[39;00m\n\u001b[1;32m----> 7\u001b[0m model_trainer \u001b[38;5;241m=\u001b[39m \u001b[43mModelTrainer\u001b[49m\u001b[43m(\u001b[49m\u001b[43mconfig\u001b[49m\u001b[38;5;241;43m=\u001b[39;49m\u001b[43mmodel_trainer_config\u001b[49m\u001b[43m)\u001b[49m\n\u001b[0;32m      8\u001b[0m model_trainer\u001b[38;5;241m.\u001b[39mtrain()\n\u001b[0;32m      9\u001b[0m model_trainer_config\u001b[38;5;241m.\u001b[39mtrain()\n",
      "Cell \u001b[1;32mIn[21], line 11\u001b[0m, in \u001b[0;36mModelTrainer.__init__\u001b[1;34m(self, config)\u001b[0m\n\u001b[0;32m      8\u001b[0m \u001b[38;5;28mself\u001b[39m\u001b[38;5;241m.\u001b[39mconfig \u001b[38;5;241m=\u001b[39m config\n\u001b[0;32m     10\u001b[0m \u001b[38;5;66;03m# Initialize PCA with the number of components from the config\u001b[39;00m\n\u001b[1;32m---> 11\u001b[0m \u001b[38;5;28mself\u001b[39m\u001b[38;5;241m.\u001b[39mpca \u001b[38;5;241m=\u001b[39m PCA(n_components\u001b[38;5;241m=\u001b[39m\u001b[38;5;28;43mself\u001b[39;49m\u001b[38;5;241;43m.\u001b[39;49m\u001b[43mconfig\u001b[49m\u001b[38;5;241;43m.\u001b[39;49m\u001b[43mn_components\u001b[49m, random_state\u001b[38;5;241m=\u001b[39m\u001b[38;5;28mself\u001b[39m\u001b[38;5;241m.\u001b[39mconfig\u001b[38;5;241m.\u001b[39mrandom_state)\n\u001b[0;32m     13\u001b[0m \u001b[38;5;66;03m# Initialize Random Forest model with parameters from the config\u001b[39;00m\n\u001b[0;32m     14\u001b[0m \u001b[38;5;28mself\u001b[39m\u001b[38;5;241m.\u001b[39mmodel \u001b[38;5;241m=\u001b[39m RandomForestClassifier(\n\u001b[0;32m     15\u001b[0m     n_estimators\u001b[38;5;241m=\u001b[39m\u001b[38;5;28mself\u001b[39m\u001b[38;5;241m.\u001b[39mconfig\u001b[38;5;241m.\u001b[39mn_estimators,\n\u001b[0;32m     16\u001b[0m     min_samples_split\u001b[38;5;241m=\u001b[39m\u001b[38;5;28mself\u001b[39m\u001b[38;5;241m.\u001b[39mconfig\u001b[38;5;241m.\u001b[39mmin_samples_split,\n\u001b[0;32m     17\u001b[0m     random_state\u001b[38;5;241m=\u001b[39m\u001b[38;5;28mself\u001b[39m\u001b[38;5;241m.\u001b[39mconfig\u001b[38;5;241m.\u001b[39mrandom_state\n\u001b[0;32m     18\u001b[0m )\n",
      "\u001b[1;31mAttributeError\u001b[0m: 'ModelTrainer' object has no attribute 'n_components'"
     ]
    }
   ],
   "source": [
    "try:\n",
    "    config = ConfigurationManager()\n",
    "    model_trainer_config = config.get_model_trainer_config()\n",
    "    model_trainer = ModelTrainer(config=model_trainer_config)\n",
    "    model_trainer.train()\n",
    "except Exception as e:\n",
    "    raise e"
   ]
  },
  {
   "cell_type": "code",
   "execution_count": null,
   "metadata": {},
   "outputs": [],
   "source": []
  }
 ],
 "metadata": {
  "kernelspec": {
   "display_name": "venv",
   "language": "python",
   "name": "python3"
  },
  "language_info": {
   "codemirror_mode": {
    "name": "ipython",
    "version": 3
   },
   "file_extension": ".py",
   "mimetype": "text/x-python",
   "name": "python",
   "nbconvert_exporter": "python",
   "pygments_lexer": "ipython3",
   "version": "3.9.20"
  }
 },
 "nbformat": 4,
 "nbformat_minor": 2
}
